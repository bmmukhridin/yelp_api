{
 "cells": [
  {
   "cell_type": "code",
   "execution_count": 2,
   "metadata": {},
   "outputs": [
    {
     "name": "stdout",
     "output_type": "stream",
     "text": [
      "Collecting YelpAPI\n",
      "  Downloading yelpapi-2.5.0-py3-none-any.whl (7.4 kB)\n",
      "Requirement already satisfied: requests in /opt/homebrew/Caskroom/miniforge/base/envs/dojo-env/lib/python3.9/site-packages (from YelpAPI) (2.28.1)\n",
      "Requirement already satisfied: charset-normalizer<3,>=2 in /opt/homebrew/Caskroom/miniforge/base/envs/dojo-env/lib/python3.9/site-packages (from requests->YelpAPI) (2.0.4)\n",
      "Requirement already satisfied: idna<4,>=2.5 in /opt/homebrew/Caskroom/miniforge/base/envs/dojo-env/lib/python3.9/site-packages (from requests->YelpAPI) (3.4)\n",
      "Requirement already satisfied: urllib3<1.27,>=1.21.1 in /opt/homebrew/Caskroom/miniforge/base/envs/dojo-env/lib/python3.9/site-packages (from requests->YelpAPI) (1.26.13)\n",
      "Requirement already satisfied: certifi>=2017.4.17 in /opt/homebrew/Caskroom/miniforge/base/envs/dojo-env/lib/python3.9/site-packages (from requests->YelpAPI) (2022.9.24)\n",
      "Installing collected packages: YelpAPI\n",
      "Successfully installed YelpAPI-2.5.0\n"
     ]
    }
   ],
   "source": [
    "!pip install YelpAPI"
   ]
  },
  {
   "cell_type": "code",
   "execution_count": 5,
   "metadata": {},
   "outputs": [],
   "source": [
    "# imports\n",
    "\n",
    "import os, json, math, time\n",
    "from yelpapi import YelpAPI\n",
    "from tqdm.notebook import tqdm_notebook\n",
    "import pandas as pd\n",
    "import numpy as np\n",
    "import matplotlib.pyplot as plt\n",
    "import seaborn as sns"
   ]
  },
  {
   "cell_type": "code",
   "execution_count": 6,
   "metadata": {},
   "outputs": [
    {
     "data": {
      "text/plain": [
       "dict_keys(['client-id', 'api-key'])"
      ]
     },
     "execution_count": 6,
     "metadata": {},
     "output_type": "execute_result"
    }
   ],
   "source": [
    "# import json to read yelp api credentials\n",
    "import json\n",
    "\n",
    "# with open: yelp api credentials (save as variable)\n",
    "with open('.secret/yelp_api.json') as f:\n",
    "    login = json.load(f)\n",
    "\n",
    "login.keys()\n"
   ]
  },
  {
   "cell_type": "code",
   "execution_count": 7,
   "metadata": {},
   "outputs": [
    {
     "data": {
      "text/plain": [
       "<yelpapi.yelpapi.YelpAPI at 0x10471eb80>"
      ]
     },
     "execution_count": 7,
     "metadata": {},
     "output_type": "execute_result"
    }
   ],
   "source": [
    "# import yelpapi class\n",
    "from yelpapi import YelpAPI\n",
    "\n",
    "# create instance with api key\n",
    "yelp_api = YelpAPI(login['api-key'], timeout_s = 5.0)\n",
    "yelp_api"
   ]
  },
  {
   "cell_type": "code",
   "execution_count": 8,
   "metadata": {},
   "outputs": [],
   "source": [
    "# define location and term\n",
    "LOCATION = 'Los Angeles, CA'\n",
    "TERM = 'Korean'"
   ]
  },
  {
   "cell_type": "code",
   "execution_count": 9,
   "metadata": {},
   "outputs": [
    {
     "data": {
      "text/plain": [
       "'Data/results_in_progress_Los Angeles_Korean.json'"
      ]
     },
     "execution_count": 9,
     "metadata": {},
     "output_type": "execute_result"
    }
   ],
   "source": [
    "# specify folder to save data in\n",
    "FOLDER = 'Data/'\n",
    "\n",
    "# make folder (if already exists, okay)\n",
    "os.makedirs(FOLDER, exist_ok = True)\n",
    "\n",
    "# specify JSON_FILE to save results to\n",
    "JSON_FILE = FOLDER+f\"results_in_progress_{LOCATION.split(',')[0]}_{TERM}.json\"\n",
    "JSON_FILE"
   ]
  },
  {
   "cell_type": "code",
   "execution_count": 10,
   "metadata": {},
   "outputs": [],
   "source": [
    "# define function to create and save an empty JSON file\n",
    "# use parameter delete_if_exists = True if want to start over\n",
    "# (if there is a previous file)\n",
    "def create_json_file(JSON_FILE, delete_if_exists = False):\n",
    "    \n",
    "    # check if JSON_FILE exists\n",
    "    file_exists = os.path.isfile(JSON_FILE)\n",
    "    \n",
    "    # if it DOES exist:\n",
    "    if file_exists == True:\n",
    "        \n",
    "        # check if user wants to delete if exists\n",
    "        if delete_if_exists == True:\n",
    "            \n",
    "            print(f\"[!] {JSON_FILE} already exists. Deleting previous file.\")\n",
    "            \n",
    "            # delete previous file and confirm it no longer exists\n",
    "            os.remove(JSON_FILE)\n",
    "            \n",
    "            # recursive call to function after old file is deleted\n",
    "            create_json_file(JSON_FILE, delete_if_exists = False)\n",
    "    \n",
    "    # if it does NOT exist:\n",
    "    else:\n",
    "        \n",
    "        # inform user and save empty list\n",
    "        print(f\"[!] {JSON_FILE} not found. Saving empty list to new file.\")\n",
    "        \n",
    "        # create any needed folders specified in the JSON_FILE path\n",
    "        # get the folder name\n",
    "        folder = os.path.dirname(JSON_FILE)\n",
    "        \n",
    "        # if JSON_FILE path included a folder:\n",
    "        if len(folder) > 0:\n",
    "            \n",
    "            # create the folder\n",
    "            os.makedirs(folder, exist_ok = True)\n",
    "            \n",
    "            # save empty list to start the json file\n",
    "            with open(JSON_FILE, 'w') as f:\n",
    "                json.dump([], f)"
   ]
  },
  {
   "cell_type": "code",
   "execution_count": 11,
   "metadata": {},
   "outputs": [
    {
     "name": "stdout",
     "output_type": "stream",
     "text": [
      "[!] Data/results_in_progress_Los Angeles_Korean.json not found. Saving empty list to new file.\n"
     ]
    }
   ],
   "source": [
    "# create new empty json file (delete if already exists)\n",
    "create_json_file(JSON_FILE, delete_if_exists = True)\n"
   ]
  },
  {
   "cell_type": "code",
   "execution_count": 12,
   "metadata": {},
   "outputs": [
    {
     "data": {
      "text/plain": [
       "[]"
      ]
     },
     "execution_count": 12,
     "metadata": {},
     "output_type": "execute_result"
    }
   ],
   "source": [
    "# load previous results and use length of results for offset\n",
    "with open(JSON_FILE, 'r') as f:\n",
    "    previous_results = json.load(f)\n",
    "    \n",
    "previous_results"
   ]
  },
  {
   "cell_type": "code",
   "execution_count": 13,
   "metadata": {},
   "outputs": [
    {
     "name": "stdout",
     "output_type": "stream",
     "text": [
      "0 previous results found.\n"
     ]
    }
   ],
   "source": [
    "# set offset based on previous results\n",
    "n_results = len(previous_results)\n",
    "\n",
    "print(f\"{n_results} previous results found.\")"
   ]
  },
  {
   "cell_type": "code",
   "execution_count": 14,
   "metadata": {},
   "outputs": [
    {
     "data": {
      "text/plain": [
       "4400"
      ]
     },
     "execution_count": 14,
     "metadata": {},
     "output_type": "execute_result"
    }
   ],
   "source": [
    "# use search_query to perform api call\n",
    "results = yelp_api.search_query(location = LOCATION,\n",
    "                               term = TERM,\n",
    "                               offset = n_results)\n",
    "\n",
    "# how many results total?\n",
    "total_results = results['total']\n",
    "total_results"
   ]
  },
  {
   "cell_type": "code",
   "execution_count": 15,
   "metadata": {},
   "outputs": [
    {
     "data": {
      "text/plain": [
       "20"
      ]
     },
     "execution_count": 15,
     "metadata": {},
     "output_type": "execute_result"
    }
   ],
   "source": [
    "# how many results did we get in api call?\n",
    "results_per_page = len(results['businesses'])\n",
    "results_per_page"
   ]
  },
  {
   "cell_type": "code",
   "execution_count": 16,
   "metadata": {},
   "outputs": [
    {
     "data": {
      "text/plain": [
       "220"
      ]
     },
     "execution_count": 16,
     "metadata": {},
     "output_type": "execute_result"
    }
   ],
   "source": [
    "# calculate number of calls needed for total results\n",
    "n_pages = math.ceil((results['total'] - n_results) / results_per_page)\n",
    "n_pages"
   ]
  },
  {
   "cell_type": "code",
   "execution_count": 17,
   "metadata": {},
   "outputs": [
    {
     "data": {
      "application/vnd.jupyter.widget-view+json": {
       "model_id": "137207195ff24d12a67c4e47b2d4dd9e",
       "version_major": 2,
       "version_minor": 0
      },
      "text/plain": [
       "  0%|          | 0/220 [00:00<?, ?it/s]"
      ]
     },
     "metadata": {},
     "output_type": "display_data"
    },
    {
     "name": "stdout",
     "output_type": "stream",
     "text": [
      "Exceeded 1000 API calls. Stopping loop.\n"
     ]
    }
   ],
   "source": [
    "# loop to get all results by calling api multiple times\n",
    "for i in tqdm_notebook(range(1, n_pages + 1)):\n",
    "    \n",
    "    # read in results in progress and check length\n",
    "    with open(JSON_FILE, 'r') as f:\n",
    "        previous_results = json.load(f)\n",
    "        \n",
    "    # save number of results to use as offset\n",
    "    n_results = len(previous_results)\n",
    "    \n",
    "    # stop loop if called over 1000 times\n",
    "    if (n_results + results_per_page) > 1000:\n",
    "        print(\"Exceeded 1000 API calls. Stopping loop.\")\n",
    "        break\n",
    "        \n",
    "    # call api, use n_results as the offset\n",
    "    results = yelp_api.search_query(location = LOCATION,\n",
    "                                   term = TERM,\n",
    "                                   offset = n_results)\n",
    "    \n",
    "    # append new results to previous results and save\n",
    "    previous_results.extend(results['businesses'])\n",
    "    \n",
    "    # display previous results\n",
    "    with open(JSON_FILE, 'w') as f:\n",
    "        json.dump(previous_results, f)\n",
    "        \n",
    "    # pause\n",
    "    time.sleep(0.2)\n"
   ]
  },
  {
   "cell_type": "code",
   "execution_count": 18,
   "metadata": {},
   "outputs": [
    {
     "data": {
      "text/html": [
       "<div>\n",
       "<style scoped>\n",
       "    .dataframe tbody tr th:only-of-type {\n",
       "        vertical-align: middle;\n",
       "    }\n",
       "\n",
       "    .dataframe tbody tr th {\n",
       "        vertical-align: top;\n",
       "    }\n",
       "\n",
       "    .dataframe thead th {\n",
       "        text-align: right;\n",
       "    }\n",
       "</style>\n",
       "<table border=\"1\" class=\"dataframe\">\n",
       "  <thead>\n",
       "    <tr style=\"text-align: right;\">\n",
       "      <th></th>\n",
       "      <th>id</th>\n",
       "      <th>alias</th>\n",
       "      <th>name</th>\n",
       "      <th>image_url</th>\n",
       "      <th>is_closed</th>\n",
       "      <th>url</th>\n",
       "      <th>review_count</th>\n",
       "      <th>categories</th>\n",
       "      <th>rating</th>\n",
       "      <th>coordinates</th>\n",
       "      <th>transactions</th>\n",
       "      <th>price</th>\n",
       "      <th>location</th>\n",
       "      <th>phone</th>\n",
       "      <th>display_phone</th>\n",
       "      <th>distance</th>\n",
       "    </tr>\n",
       "  </thead>\n",
       "  <tbody>\n",
       "    <tr>\n",
       "      <th>0</th>\n",
       "      <td>h1R2iKYdm2lwukzMJvJqDw</td>\n",
       "      <td>hangari-kalguksu-los-angeles-4</td>\n",
       "      <td>Hangari Kalguksu</td>\n",
       "      <td>https://s3-media3.fl.yelpcdn.com/bphoto/X_U65O...</td>\n",
       "      <td>False</td>\n",
       "      <td>https://www.yelp.com/biz/hangari-kalguksu-los-...</td>\n",
       "      <td>2442</td>\n",
       "      <td>[{'alias': 'korean', 'title': 'Korean'}, {'ali...</td>\n",
       "      <td>4.5</td>\n",
       "      <td>{'latitude': 34.0628602582049, 'longitude': -1...</td>\n",
       "      <td>[delivery, pickup]</td>\n",
       "      <td>$$</td>\n",
       "      <td>{'address1': '3470 W 6th St', 'address2': 'Ste...</td>\n",
       "      <td>+12133882326</td>\n",
       "      <td>(213) 388-2326</td>\n",
       "      <td>11451.915903</td>\n",
       "    </tr>\n",
       "    <tr>\n",
       "      <th>1</th>\n",
       "      <td>3C2wUqSkpY4-N0O5ArVjwQ</td>\n",
       "      <td>yuk-dae-jang-los-angeles-2</td>\n",
       "      <td>Yuk Dae Jang</td>\n",
       "      <td>https://s3-media2.fl.yelpcdn.com/bphoto/5y-hXE...</td>\n",
       "      <td>False</td>\n",
       "      <td>https://www.yelp.com/biz/yuk-dae-jang-los-ange...</td>\n",
       "      <td>720</td>\n",
       "      <td>[{'alias': 'korean', 'title': 'Korean'}, {'ali...</td>\n",
       "      <td>4.5</td>\n",
       "      <td>{'latitude': 34.0640411376953, 'longitude': -1...</td>\n",
       "      <td>[delivery, pickup]</td>\n",
       "      <td>$$</td>\n",
       "      <td>{'address1': '3033 W 6th St', 'address2': 'Ste...</td>\n",
       "      <td>+12133521331</td>\n",
       "      <td>(213) 352-1331</td>\n",
       "      <td>12305.727721</td>\n",
       "    </tr>\n",
       "    <tr>\n",
       "      <th>2</th>\n",
       "      <td>uzAbw27XQTXTivjgf2bN2w</td>\n",
       "      <td>han-bat-sul-lung-tang-los-angeles-2</td>\n",
       "      <td>Han Bat Sul Lung Tang</td>\n",
       "      <td>https://s3-media2.fl.yelpcdn.com/bphoto/YttPox...</td>\n",
       "      <td>False</td>\n",
       "      <td>https://www.yelp.com/biz/han-bat-sul-lung-tang...</td>\n",
       "      <td>2695</td>\n",
       "      <td>[{'alias': 'korean', 'title': 'Korean'}, {'ali...</td>\n",
       "      <td>4.5</td>\n",
       "      <td>{'latitude': 34.065414, 'longitude': -118.3095...</td>\n",
       "      <td>[delivery]</td>\n",
       "      <td>$$</td>\n",
       "      <td>{'address1': '4163 W 5th St', 'address2': '', ...</td>\n",
       "      <td>+12133839499</td>\n",
       "      <td>(213) 383-9499</td>\n",
       "      <td>10588.083046</td>\n",
       "    </tr>\n",
       "    <tr>\n",
       "      <th>3</th>\n",
       "      <td>KtEMG1Aln3vQzte92QJxlw</td>\n",
       "      <td>genwa-korean-bbq-mid-wilshire-los-angeles</td>\n",
       "      <td>Genwa Korean BBQ Mid Wilshire</td>\n",
       "      <td>https://s3-media2.fl.yelpcdn.com/bphoto/n6VHst...</td>\n",
       "      <td>False</td>\n",
       "      <td>https://www.yelp.com/biz/genwa-korean-bbq-mid-...</td>\n",
       "      <td>3073</td>\n",
       "      <td>[{'alias': 'korean', 'title': 'Korean'}, {'ali...</td>\n",
       "      <td>4.5</td>\n",
       "      <td>{'latitude': 34.062321315088, 'longitude': -11...</td>\n",
       "      <td>[delivery, pickup]</td>\n",
       "      <td>$$$</td>\n",
       "      <td>{'address1': '5115 Wilshire Blvd', 'address2':...</td>\n",
       "      <td>+13235490760</td>\n",
       "      <td>(323) 549-0760</td>\n",
       "      <td>7958.053069</td>\n",
       "    </tr>\n",
       "    <tr>\n",
       "      <th>4</th>\n",
       "      <td>0SerWqGwzNWpTA2RBLVdUg</td>\n",
       "      <td>sun-nong-dan-los-angeles-4</td>\n",
       "      <td>Sun Nong Dan</td>\n",
       "      <td>https://s3-media3.fl.yelpcdn.com/bphoto/wGqvSZ...</td>\n",
       "      <td>False</td>\n",
       "      <td>https://www.yelp.com/biz/sun-nong-dan-los-ange...</td>\n",
       "      <td>2293</td>\n",
       "      <td>[{'alias': 'korean', 'title': 'Korean'}, {'ali...</td>\n",
       "      <td>4.0</td>\n",
       "      <td>{'latitude': 34.0630233116146, 'longitude': -1...</td>\n",
       "      <td>[delivery, pickup]</td>\n",
       "      <td>$$$</td>\n",
       "      <td>{'address1': '3470 W 6th St', 'address2': 'Ste...</td>\n",
       "      <td>+12133650303</td>\n",
       "      <td>(213) 365-0303</td>\n",
       "      <td>11461.989315</td>\n",
       "    </tr>\n",
       "  </tbody>\n",
       "</table>\n",
       "</div>"
      ],
      "text/plain": [
       "                       id                                      alias  \\\n",
       "0  h1R2iKYdm2lwukzMJvJqDw             hangari-kalguksu-los-angeles-4   \n",
       "1  3C2wUqSkpY4-N0O5ArVjwQ                 yuk-dae-jang-los-angeles-2   \n",
       "2  uzAbw27XQTXTivjgf2bN2w        han-bat-sul-lung-tang-los-angeles-2   \n",
       "3  KtEMG1Aln3vQzte92QJxlw  genwa-korean-bbq-mid-wilshire-los-angeles   \n",
       "4  0SerWqGwzNWpTA2RBLVdUg                 sun-nong-dan-los-angeles-4   \n",
       "\n",
       "                            name  \\\n",
       "0               Hangari Kalguksu   \n",
       "1                   Yuk Dae Jang   \n",
       "2          Han Bat Sul Lung Tang   \n",
       "3  Genwa Korean BBQ Mid Wilshire   \n",
       "4                   Sun Nong Dan   \n",
       "\n",
       "                                           image_url  is_closed  \\\n",
       "0  https://s3-media3.fl.yelpcdn.com/bphoto/X_U65O...      False   \n",
       "1  https://s3-media2.fl.yelpcdn.com/bphoto/5y-hXE...      False   \n",
       "2  https://s3-media2.fl.yelpcdn.com/bphoto/YttPox...      False   \n",
       "3  https://s3-media2.fl.yelpcdn.com/bphoto/n6VHst...      False   \n",
       "4  https://s3-media3.fl.yelpcdn.com/bphoto/wGqvSZ...      False   \n",
       "\n",
       "                                                 url  review_count  \\\n",
       "0  https://www.yelp.com/biz/hangari-kalguksu-los-...          2442   \n",
       "1  https://www.yelp.com/biz/yuk-dae-jang-los-ange...           720   \n",
       "2  https://www.yelp.com/biz/han-bat-sul-lung-tang...          2695   \n",
       "3  https://www.yelp.com/biz/genwa-korean-bbq-mid-...          3073   \n",
       "4  https://www.yelp.com/biz/sun-nong-dan-los-ange...          2293   \n",
       "\n",
       "                                          categories  rating  \\\n",
       "0  [{'alias': 'korean', 'title': 'Korean'}, {'ali...     4.5   \n",
       "1  [{'alias': 'korean', 'title': 'Korean'}, {'ali...     4.5   \n",
       "2  [{'alias': 'korean', 'title': 'Korean'}, {'ali...     4.5   \n",
       "3  [{'alias': 'korean', 'title': 'Korean'}, {'ali...     4.5   \n",
       "4  [{'alias': 'korean', 'title': 'Korean'}, {'ali...     4.0   \n",
       "\n",
       "                                         coordinates        transactions  \\\n",
       "0  {'latitude': 34.0628602582049, 'longitude': -1...  [delivery, pickup]   \n",
       "1  {'latitude': 34.0640411376953, 'longitude': -1...  [delivery, pickup]   \n",
       "2  {'latitude': 34.065414, 'longitude': -118.3095...          [delivery]   \n",
       "3  {'latitude': 34.062321315088, 'longitude': -11...  [delivery, pickup]   \n",
       "4  {'latitude': 34.0630233116146, 'longitude': -1...  [delivery, pickup]   \n",
       "\n",
       "  price                                           location         phone  \\\n",
       "0    $$  {'address1': '3470 W 6th St', 'address2': 'Ste...  +12133882326   \n",
       "1    $$  {'address1': '3033 W 6th St', 'address2': 'Ste...  +12133521331   \n",
       "2    $$  {'address1': '4163 W 5th St', 'address2': '', ...  +12133839499   \n",
       "3   $$$  {'address1': '5115 Wilshire Blvd', 'address2':...  +13235490760   \n",
       "4   $$$  {'address1': '3470 W 6th St', 'address2': 'Ste...  +12133650303   \n",
       "\n",
       "    display_phone      distance  \n",
       "0  (213) 388-2326  11451.915903  \n",
       "1  (213) 352-1331  12305.727721  \n",
       "2  (213) 383-9499  10588.083046  \n",
       "3  (323) 549-0760   7958.053069  \n",
       "4  (213) 365-0303  11461.989315  "
      ]
     },
     "metadata": {},
     "output_type": "display_data"
    },
    {
     "data": {
      "text/html": [
       "<div>\n",
       "<style scoped>\n",
       "    .dataframe tbody tr th:only-of-type {\n",
       "        vertical-align: middle;\n",
       "    }\n",
       "\n",
       "    .dataframe tbody tr th {\n",
       "        vertical-align: top;\n",
       "    }\n",
       "\n",
       "    .dataframe thead th {\n",
       "        text-align: right;\n",
       "    }\n",
       "</style>\n",
       "<table border=\"1\" class=\"dataframe\">\n",
       "  <thead>\n",
       "    <tr style=\"text-align: right;\">\n",
       "      <th></th>\n",
       "      <th>id</th>\n",
       "      <th>alias</th>\n",
       "      <th>name</th>\n",
       "      <th>image_url</th>\n",
       "      <th>is_closed</th>\n",
       "      <th>url</th>\n",
       "      <th>review_count</th>\n",
       "      <th>categories</th>\n",
       "      <th>rating</th>\n",
       "      <th>coordinates</th>\n",
       "      <th>transactions</th>\n",
       "      <th>price</th>\n",
       "      <th>location</th>\n",
       "      <th>phone</th>\n",
       "      <th>display_phone</th>\n",
       "      <th>distance</th>\n",
       "    </tr>\n",
       "  </thead>\n",
       "  <tbody>\n",
       "    <tr>\n",
       "      <th>995</th>\n",
       "      <td>q_NvC1kq3P3RCYlBiFVjDw</td>\n",
       "      <td>mitsuwa-marketplace-northridge-3</td>\n",
       "      <td>Mitsuwa Marketplace</td>\n",
       "      <td>https://s3-media2.fl.yelpcdn.com/bphoto/_QbDph...</td>\n",
       "      <td>False</td>\n",
       "      <td>https://www.yelp.com/biz/mitsuwa-marketplace-n...</td>\n",
       "      <td>77</td>\n",
       "      <td>[{'alias': 'intlgrocery', 'title': 'Internatio...</td>\n",
       "      <td>3.5</td>\n",
       "      <td>{'latitude': 34.232888, 'longitude': -118.553025}</td>\n",
       "      <td>[]</td>\n",
       "      <td>$$</td>\n",
       "      <td>{'address1': '8940 Tampa Ave', 'address2': '',...</td>\n",
       "      <td>+18186269373</td>\n",
       "      <td>(818) 626-9373</td>\n",
       "      <td>27034.103145</td>\n",
       "    </tr>\n",
       "    <tr>\n",
       "      <th>996</th>\n",
       "      <td>rA5Af_n9bG32dVUn6mEb_g</td>\n",
       "      <td>sojuya-cypress-2</td>\n",
       "      <td>Sojuya</td>\n",
       "      <td>https://s3-media2.fl.yelpcdn.com/bphoto/kye1m-...</td>\n",
       "      <td>False</td>\n",
       "      <td>https://www.yelp.com/biz/sojuya-cypress-2?adju...</td>\n",
       "      <td>446</td>\n",
       "      <td>[{'alias': 'japanese', 'title': 'Japanese'}, {...</td>\n",
       "      <td>4.0</td>\n",
       "      <td>{'latitude': 33.831278, 'longitude': -118.05494}</td>\n",
       "      <td>[delivery]</td>\n",
       "      <td>$$</td>\n",
       "      <td>{'address1': '4498 Lincoln Ave', 'address2': '...</td>\n",
       "      <td>+17148285959</td>\n",
       "      <td>(714) 828-5959</td>\n",
       "      <td>38961.066837</td>\n",
       "    </tr>\n",
       "    <tr>\n",
       "      <th>997</th>\n",
       "      <td>oK3If9fgoMhmmHPpMwqolg</td>\n",
       "      <td>w-brazilian-steakhouse-los-angeles</td>\n",
       "      <td>W Brazilian Steakhouse</td>\n",
       "      <td>https://s3-media1.fl.yelpcdn.com/bphoto/Aq7gUc...</td>\n",
       "      <td>False</td>\n",
       "      <td>https://www.yelp.com/biz/w-brazilian-steakhous...</td>\n",
       "      <td>141</td>\n",
       "      <td>[{'alias': 'brazilian', 'title': 'Brazilian'},...</td>\n",
       "      <td>4.5</td>\n",
       "      <td>{'latitude': 34.07441, 'longitude': -118.30931}</td>\n",
       "      <td>[delivery, pickup]</td>\n",
       "      <td>$$$</td>\n",
       "      <td>{'address1': '147 N Western Ave', 'address2': ...</td>\n",
       "      <td>+13233807352</td>\n",
       "      <td>(323) 380-7352</td>\n",
       "      <td>11111.771894</td>\n",
       "    </tr>\n",
       "    <tr>\n",
       "      <th>998</th>\n",
       "      <td>AyCE1u1Vfxpw_lXr1Te1uw</td>\n",
       "      <td>lab-88-el-monte-5</td>\n",
       "      <td>Lab 88</td>\n",
       "      <td>https://s3-media2.fl.yelpcdn.com/bphoto/WEwIjU...</td>\n",
       "      <td>False</td>\n",
       "      <td>https://www.yelp.com/biz/lab-88-el-monte-5?adj...</td>\n",
       "      <td>278</td>\n",
       "      <td>[{'alias': 'lounges', 'title': 'Lounges'}, {'a...</td>\n",
       "      <td>4.5</td>\n",
       "      <td>{'latitude': 34.09166083988975, 'longitude': -...</td>\n",
       "      <td>[delivery, pickup]</td>\n",
       "      <td>$$</td>\n",
       "      <td>{'address1': '10602 Lower Azusa Rd', 'address2...</td>\n",
       "      <td>+16266720034</td>\n",
       "      <td>(626) 672-0034</td>\n",
       "      <td>35212.873772</td>\n",
       "    </tr>\n",
       "    <tr>\n",
       "      <th>999</th>\n",
       "      <td>H0eQSsPSEyh8--KaU3x3Dw</td>\n",
       "      <td>shik-do-rak-irvine</td>\n",
       "      <td>Shik Do Rak</td>\n",
       "      <td>https://s3-media2.fl.yelpcdn.com/bphoto/OZMql9...</td>\n",
       "      <td>False</td>\n",
       "      <td>https://www.yelp.com/biz/shik-do-rak-irvine?ad...</td>\n",
       "      <td>1795</td>\n",
       "      <td>[{'alias': 'korean', 'title': 'Korean'}, {'ali...</td>\n",
       "      <td>3.5</td>\n",
       "      <td>{'latitude': 33.68806, 'longitude': -117.77158}</td>\n",
       "      <td>[delivery, pickup]</td>\n",
       "      <td>$$</td>\n",
       "      <td>{'address1': '14805 Jeffrey Rd', 'address2': '...</td>\n",
       "      <td>+19496537668</td>\n",
       "      <td>(949) 653-7668</td>\n",
       "      <td>69619.615148</td>\n",
       "    </tr>\n",
       "  </tbody>\n",
       "</table>\n",
       "</div>"
      ],
      "text/plain": [
       "                         id                               alias  \\\n",
       "995  q_NvC1kq3P3RCYlBiFVjDw    mitsuwa-marketplace-northridge-3   \n",
       "996  rA5Af_n9bG32dVUn6mEb_g                    sojuya-cypress-2   \n",
       "997  oK3If9fgoMhmmHPpMwqolg  w-brazilian-steakhouse-los-angeles   \n",
       "998  AyCE1u1Vfxpw_lXr1Te1uw                   lab-88-el-monte-5   \n",
       "999  H0eQSsPSEyh8--KaU3x3Dw                  shik-do-rak-irvine   \n",
       "\n",
       "                       name  \\\n",
       "995     Mitsuwa Marketplace   \n",
       "996                  Sojuya   \n",
       "997  W Brazilian Steakhouse   \n",
       "998                  Lab 88   \n",
       "999             Shik Do Rak   \n",
       "\n",
       "                                             image_url  is_closed  \\\n",
       "995  https://s3-media2.fl.yelpcdn.com/bphoto/_QbDph...      False   \n",
       "996  https://s3-media2.fl.yelpcdn.com/bphoto/kye1m-...      False   \n",
       "997  https://s3-media1.fl.yelpcdn.com/bphoto/Aq7gUc...      False   \n",
       "998  https://s3-media2.fl.yelpcdn.com/bphoto/WEwIjU...      False   \n",
       "999  https://s3-media2.fl.yelpcdn.com/bphoto/OZMql9...      False   \n",
       "\n",
       "                                                   url  review_count  \\\n",
       "995  https://www.yelp.com/biz/mitsuwa-marketplace-n...            77   \n",
       "996  https://www.yelp.com/biz/sojuya-cypress-2?adju...           446   \n",
       "997  https://www.yelp.com/biz/w-brazilian-steakhous...           141   \n",
       "998  https://www.yelp.com/biz/lab-88-el-monte-5?adj...           278   \n",
       "999  https://www.yelp.com/biz/shik-do-rak-irvine?ad...          1795   \n",
       "\n",
       "                                            categories  rating  \\\n",
       "995  [{'alias': 'intlgrocery', 'title': 'Internatio...     3.5   \n",
       "996  [{'alias': 'japanese', 'title': 'Japanese'}, {...     4.0   \n",
       "997  [{'alias': 'brazilian', 'title': 'Brazilian'},...     4.5   \n",
       "998  [{'alias': 'lounges', 'title': 'Lounges'}, {'a...     4.5   \n",
       "999  [{'alias': 'korean', 'title': 'Korean'}, {'ali...     3.5   \n",
       "\n",
       "                                           coordinates        transactions  \\\n",
       "995  {'latitude': 34.232888, 'longitude': -118.553025}                  []   \n",
       "996   {'latitude': 33.831278, 'longitude': -118.05494}          [delivery]   \n",
       "997    {'latitude': 34.07441, 'longitude': -118.30931}  [delivery, pickup]   \n",
       "998  {'latitude': 34.09166083988975, 'longitude': -...  [delivery, pickup]   \n",
       "999    {'latitude': 33.68806, 'longitude': -117.77158}  [delivery, pickup]   \n",
       "\n",
       "    price                                           location         phone  \\\n",
       "995    $$  {'address1': '8940 Tampa Ave', 'address2': '',...  +18186269373   \n",
       "996    $$  {'address1': '4498 Lincoln Ave', 'address2': '...  +17148285959   \n",
       "997   $$$  {'address1': '147 N Western Ave', 'address2': ...  +13233807352   \n",
       "998    $$  {'address1': '10602 Lower Azusa Rd', 'address2...  +16266720034   \n",
       "999    $$  {'address1': '14805 Jeffrey Rd', 'address2': '...  +19496537668   \n",
       "\n",
       "      display_phone      distance  \n",
       "995  (818) 626-9373  27034.103145  \n",
       "996  (714) 828-5959  38961.066837  \n",
       "997  (323) 380-7352  11111.771894  \n",
       "998  (626) 672-0034  35212.873772  \n",
       "999  (949) 653-7668  69619.615148  "
      ]
     },
     "metadata": {},
     "output_type": "display_data"
    }
   ],
   "source": [
    "# convert results in progress json file to df\n",
    "final_df = pd.read_json(JSON_FILE)\n",
    "display(final_df.head(), final_df.tail())"
   ]
  },
  {
   "cell_type": "code",
   "execution_count": 19,
   "metadata": {},
   "outputs": [
    {
     "data": {
      "text/plain": [
       "0"
      ]
     },
     "execution_count": 19,
     "metadata": {},
     "output_type": "execute_result"
    }
   ],
   "source": [
    "# check for duplicates of ids\n",
    "final_df.duplicated(subset = 'id').sum()"
   ]
  },
  {
   "cell_type": "code",
   "execution_count": 20,
   "metadata": {},
   "outputs": [
    {
     "data": {
      "text/plain": [
       "0"
      ]
     },
     "execution_count": 20,
     "metadata": {},
     "output_type": "execute_result"
    }
   ],
   "source": [
    "# drop duplicates\n",
    "final_df = final_df.drop_duplicates(subset = 'id')\n",
    "\n",
    "# check\n",
    "final_df.duplicated(subset = 'id').sum()"
   ]
  },
  {
   "cell_type": "code",
   "execution_count": 21,
   "metadata": {},
   "outputs": [],
   "source": [
    "# save final results to csv\n",
    "final_df.to_csv('Data/final_results_Los-Angeles_Korean.csv',\n",
    "               index = False)"
   ]
  },
  {
   "cell_type": "code",
   "execution_count": null,
   "metadata": {},
   "outputs": [],
   "source": []
  }
 ],
 "metadata": {
  "kernelspec": {
   "display_name": "dojo-env",
   "language": "python",
   "name": "python3"
  },
  "language_info": {
   "codemirror_mode": {
    "name": "ipython",
    "version": 3
   },
   "file_extension": ".py",
   "mimetype": "text/x-python",
   "name": "python",
   "nbconvert_exporter": "python",
   "pygments_lexer": "ipython3",
   "version": "3.9.15"
  },
  "orig_nbformat": 4
 },
 "nbformat": 4,
 "nbformat_minor": 2
}
